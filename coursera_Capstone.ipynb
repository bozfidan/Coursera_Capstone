
Assignment - Capstone Project Notebook
This notebook is for the assignment of Coursera course Applied Data Science Capstone

In [1]:
   import pandas as pd
   import numpy as np
print('Hello Capstone Project Course!')
